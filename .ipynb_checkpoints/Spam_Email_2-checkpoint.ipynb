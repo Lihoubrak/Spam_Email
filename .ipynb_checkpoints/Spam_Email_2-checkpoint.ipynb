{
 "cells": [
  {
   "cell_type": "code",
   "execution_count": 1,
   "id": "351d9885",
   "metadata": {},
   "outputs": [],
   "source": [
    "#import lab\n",
    "import numpy as np\n",
    "import pandas as pd\n",
    "import matplotlib.pyplot as plt\n",
    "from sklearn import metrics\n",
    "import seaborn as sns\n",
    "from sklearn.model_selection import train_test_split\n",
    "from sklearn.naive_bayes import MultinomialNB, GaussianNB\n",
    "from sklearn.feature_extraction.text import CountVectorizer"
   ]
  },
  {
   "cell_type": "code",
   "execution_count": 2,
   "id": "ef84637d",
   "metadata": {},
   "outputs": [],
   "source": [
    "#Load Dataset \n",
    "df = pd.read_csv('./spam.csv', encoding='latin-1')"
   ]
  },
  {
   "cell_type": "code",
   "execution_count": 3,
   "id": "36eabc6a",
   "metadata": {},
   "outputs": [],
   "source": [
    "# remove feature not important \n",
    "columns_remove = ['Unnamed: 2', 'Unnamed: 3', 'Unnamed: 4']\n",
    "df = df.drop(columns_remove, axis=1)"
   ]
  },
  {
   "cell_type": "code",
   "execution_count": 4,
   "id": "24b26648",
   "metadata": {},
   "outputs": [
    {
     "data": {
      "text/html": [
       "<div>\n",
       "<style scoped>\n",
       "    .dataframe tbody tr th:only-of-type {\n",
       "        vertical-align: middle;\n",
       "    }\n",
       "\n",
       "    .dataframe tbody tr th {\n",
       "        vertical-align: top;\n",
       "    }\n",
       "\n",
       "    .dataframe thead th {\n",
       "        text-align: right;\n",
       "    }\n",
       "</style>\n",
       "<table border=\"1\" class=\"dataframe\">\n",
       "  <thead>\n",
       "    <tr style=\"text-align: right;\">\n",
       "      <th></th>\n",
       "      <th>label</th>\n",
       "      <th>message</th>\n",
       "    </tr>\n",
       "  </thead>\n",
       "  <tbody>\n",
       "    <tr>\n",
       "      <th>0</th>\n",
       "      <td>ham</td>\n",
       "      <td>Go until jurong point, crazy.. Available only ...</td>\n",
       "    </tr>\n",
       "    <tr>\n",
       "      <th>1</th>\n",
       "      <td>ham</td>\n",
       "      <td>Ok lar... Joking wif u oni...</td>\n",
       "    </tr>\n",
       "    <tr>\n",
       "      <th>2</th>\n",
       "      <td>spam</td>\n",
       "      <td>Free entry in 2 a wkly comp to win FA Cup fina...</td>\n",
       "    </tr>\n",
       "    <tr>\n",
       "      <th>3</th>\n",
       "      <td>ham</td>\n",
       "      <td>U dun say so early hor... U c already then say...</td>\n",
       "    </tr>\n",
       "    <tr>\n",
       "      <th>4</th>\n",
       "      <td>ham</td>\n",
       "      <td>Nah I don't think he goes to usf, he lives aro...</td>\n",
       "    </tr>\n",
       "  </tbody>\n",
       "</table>\n",
       "</div>"
      ],
      "text/plain": [
       "  label                                            message\n",
       "0   ham  Go until jurong point, crazy.. Available only ...\n",
       "1   ham                      Ok lar... Joking wif u oni...\n",
       "2  spam  Free entry in 2 a wkly comp to win FA Cup fina...\n",
       "3   ham  U dun say so early hor... U c already then say...\n",
       "4   ham  Nah I don't think he goes to usf, he lives aro..."
      ]
     },
     "execution_count": 4,
     "metadata": {},
     "output_type": "execute_result"
    }
   ],
   "source": [
    "# preview data\n",
    "df.head()"
   ]
  },
  {
   "cell_type": "code",
   "execution_count": 5,
   "id": "6bc47f39",
   "metadata": {},
   "outputs": [
    {
     "data": {
      "text/plain": [
       "ham     4515\n",
       "spam     653\n",
       "Name: label, dtype: int64"
      ]
     },
     "execution_count": 5,
     "metadata": {},
     "output_type": "execute_result"
    }
   ],
   "source": [
    "df['label'].value_counts()"
   ]
  },
  {
   "cell_type": "code",
   "execution_count": 6,
   "id": "679aa54b",
   "metadata": {},
   "outputs": [
    {
     "name": "stdout",
     "output_type": "stream",
     "text": [
      "4515\n"
     ]
    }
   ],
   "source": [
    "count_class_0 = df['label'].value_counts()[0]\n",
    "\n",
    "print(count_class_0) "
   ]
  },
  {
   "cell_type": "code",
   "execution_count": 7,
   "id": "961d852f",
   "metadata": {},
   "outputs": [
    {
     "data": {
      "text/plain": [
       "<Axes: >"
      ]
     },
     "execution_count": 7,
     "metadata": {},
     "output_type": "execute_result"
    },
    {
     "data": {
      "image/png": "[encoded data removed]",
      "text/plain": [
       "<Figure size 640x480 with 1 Axes>"
      ]
     },
     "metadata": {},
     "output_type": "display_data"
    }
   ],
   "source": [
    "df['label'].value_counts().plot(kind=\"bar\")"
   ]
  },
  {
   "cell_type": "code",
   "execution_count": 8,
   "id": "5c794d1d",
   "metadata": {},
   "outputs": [
    {
     "data": {
      "text/plain": [
       "label      0\n",
       "message    0\n",
       "dtype: int64"
      ]
     },
     "execution_count": 8,
     "metadata": {},
     "output_type": "execute_result"
    }
   ],
   "source": [
    "# missing values\n",
    "df.isnull().sum()"
   ]
  },
  {
   "cell_type": "code",
   "execution_count": 9,
   "id": "eeaa0b6c",
   "metadata": {
    "scrolled": true
   },
   "outputs": [
    {
     "data": {
      "text/plain": [
       "0"
      ]
     },
     "execution_count": 9,
     "metadata": {},
     "output_type": "execute_result"
    }
   ],
   "source": [
    "# check for duplicate values\n",
    "df.duplicated().sum()"
   ]
  },
  {
   "cell_type": "code",
   "execution_count": 10,
   "id": "e9087558",
   "metadata": {},
   "outputs": [
    {
     "data": {
      "text/plain": [
       "ham     4515\n",
       "spam     653\n",
       "Name: label, dtype: int64"
      ]
     },
     "execution_count": 10,
     "metadata": {},
     "output_type": "execute_result"
    }
   ],
   "source": [
    "df['message'].value_counts()\n",
    "df['label'].value_counts()"
   ]
  },
  {
   "cell_type": "markdown",
   "id": "b1a81d72",
   "metadata": {},
   "source": [
    "# Imbalance with Random Oversampling"
   ]
  },
  {
   "cell_type": "code",
   "execution_count": 16,
   "id": "2c16dde6",
   "metadata": {},
   "outputs": [
    {
     "data": {
      "text/html": [
       "<div>\n",
       "<style scoped>\n",
       "    .dataframe tbody tr th:only-of-type {\n",
       "        vertical-align: middle;\n",
       "    }\n",
       "\n",
       "    .dataframe tbody tr th {\n",
       "        vertical-align: top;\n",
       "    }\n",
       "\n",
       "    .dataframe thead th {\n",
       "        text-align: right;\n",
       "    }\n",
       "</style>\n",
       "<table border=\"1\" class=\"dataframe\">\n",
       "  <thead>\n",
       "    <tr style=\"text-align: right;\">\n",
       "      <th></th>\n",
       "      <th>message</th>\n",
       "      <th>label</th>\n",
       "    </tr>\n",
       "  </thead>\n",
       "  <tbody>\n",
       "    <tr>\n",
       "      <th>0</th>\n",
       "      <td>Go until jurong point, crazy.. Available only ...</td>\n",
       "      <td>ham</td>\n",
       "    </tr>\n",
       "    <tr>\n",
       "      <th>1</th>\n",
       "      <td>Ok lar... Joking wif u oni...</td>\n",
       "      <td>ham</td>\n",
       "    </tr>\n",
       "    <tr>\n",
       "      <th>2</th>\n",
       "      <td>Free entry in 2 a wkly comp to win FA Cup fina...</td>\n",
       "      <td>spam</td>\n",
       "    </tr>\n",
       "    <tr>\n",
       "      <th>3</th>\n",
       "      <td>U dun say so early hor... U c already then say...</td>\n",
       "      <td>ham</td>\n",
       "    </tr>\n",
       "    <tr>\n",
       "      <th>4</th>\n",
       "      <td>Nah I don't think he goes to usf, he lives aro...</td>\n",
       "      <td>ham</td>\n",
       "    </tr>\n",
       "    <tr>\n",
       "      <th>...</th>\n",
       "      <td>...</td>\n",
       "      <td>...</td>\n",
       "    </tr>\n",
       "    <tr>\n",
       "      <th>9025</th>\n",
       "      <td>Loan for any purpose å£500 - å£75,000. Homeown...</td>\n",
       "      <td>spam</td>\n",
       "    </tr>\n",
       "    <tr>\n",
       "      <th>9026</th>\n",
       "      <td>You have WON a guaranteed å£1000 cash or a å£2...</td>\n",
       "      <td>spam</td>\n",
       "    </tr>\n",
       "    <tr>\n",
       "      <th>9027</th>\n",
       "      <td>1000's flirting NOW! Txt GIRL or BLOKE &amp; ur NA...</td>\n",
       "      <td>spam</td>\n",
       "    </tr>\n",
       "    <tr>\n",
       "      <th>9028</th>\n",
       "      <td>it to 80488. Your 500 free text messages are v...</td>\n",
       "      <td>spam</td>\n",
       "    </tr>\n",
       "    <tr>\n",
       "      <th>9029</th>\n",
       "      <td>from www.Applausestore.com MonthlySubscription...</td>\n",
       "      <td>spam</td>\n",
       "    </tr>\n",
       "  </tbody>\n",
       "</table>\n",
       "<p>9030 rows × 2 columns</p>\n",
       "</div>"
      ],
      "text/plain": [
       "                                                message label\n",
       "0     Go until jurong point, crazy.. Available only ...   ham\n",
       "1                         Ok lar... Joking wif u oni...   ham\n",
       "2     Free entry in 2 a wkly comp to win FA Cup fina...  spam\n",
       "3     U dun say so early hor... U c already then say...   ham\n",
       "4     Nah I don't think he goes to usf, he lives aro...   ham\n",
       "...                                                 ...   ...\n",
       "9025  Loan for any purpose å£500 - å£75,000. Homeown...  spam\n",
       "9026  You have WON a guaranteed å£1000 cash or a å£2...  spam\n",
       "9027  1000's flirting NOW! Txt GIRL or BLOKE & ur NA...  spam\n",
       "9028  it to 80488. Your 500 free text messages are v...  spam\n",
       "9029  from www.Applausestore.com MonthlySubscription...  spam\n",
       "\n",
       "[9030 rows x 2 columns]"
      ]
     },
     "execution_count": 16,
     "metadata": {},
     "output_type": "execute_result"
    }
   ],
   "source": [
    "import pandas as pd\n",
    "from sklearn.preprocessing import LabelEncoder\n",
    "from imblearn.over_sampling import RandomOverSampler\n",
    "\n",
    "# Apply random oversampling to the dataset\n",
    "oversampler = RandomOverSampler(sampling_strategy='minority', random_state=42)\n",
    "X_resampled, y_resampled = oversampler.fit_resample(df['message'].values.reshape(-1, 1), df['label'])\n",
    "\n",
    "# Convert oversampled data to a DataFrame\n",
    "df_resampled = pd.DataFrame({'message': X_resampled.flatten(), 'label': y_resampled})\n",
    "df_resampled\n"
   ]
  },
  {
   "cell_type": "code",
   "execution_count": 11,
   "id": "3cba18aa",
   "metadata": {},
   "outputs": [
    {
     "ename": "NameError",
     "evalue": "name 'df_resampled' is not defined",
     "output_type": "error",
     "traceback": [
      "\u001b[1;31m---------------------------------------------------------------------------\u001b[0m",
      "\u001b[1;31mNameError\u001b[0m                                 Traceback (most recent call last)",
      "Cell \u001b[1;32mIn[11], line 1\u001b[0m\n\u001b[1;32m----> 1\u001b[0m \u001b[43mdf_resampled\u001b[49m[\u001b[38;5;124m'\u001b[39m\u001b[38;5;124mmessage\u001b[39m\u001b[38;5;124m'\u001b[39m]\u001b[38;5;241m.\u001b[39mvalue_counts()\n\u001b[0;32m      2\u001b[0m df_resampled[\u001b[38;5;124m'\u001b[39m\u001b[38;5;124mlabel\u001b[39m\u001b[38;5;124m'\u001b[39m]\u001b[38;5;241m.\u001b[39mvalue_counts()\n",
      "\u001b[1;31mNameError\u001b[0m: name 'df_resampled' is not defined"
     ]
    }
   ],
   "source": [
    "df_resampled['message'].value_counts()\n",
    "df_resampled['label'].value_counts()"
   ]
  },
  {
   "cell_type": "code",
   "execution_count": 18,
   "id": "88319592",
   "metadata": {},
   "outputs": [
    {
     "data": {
      "text/plain": [
       "<Axes: >"
      ]
     },
     "execution_count": 18,
     "metadata": {},
     "output_type": "execute_result"
    },
    {
     "data": {
      "image/png": "[encoded data removed]",
      "text/plain": [
       "<Figure size 640x480 with 1 Axes>"
      ]
     },
     "metadata": {},
     "output_type": "display_data"
    }
   ],
   "source": [
    "df_resampled['label'].value_counts().plot(kind=\"bar\")"
   ]
  },
  {
   "cell_type": "markdown",
   "id": "8404afe2",
   "metadata": {},
   "source": [
    "# Data cleaning"
   ]
  },
  {
   "cell_type": "code",
   "execution_count": 11,
   "id": "2424cf14",
   "metadata": {},
   "outputs": [
    {
     "name": "stderr",
     "output_type": "stream",
     "text": [
      "[nltk_data] Downloading package punkt to C:\\Users\\Brak\n",
      "[nltk_data]     Lihou\\AppData\\Roaming\\nltk_data...\n",
      "[nltk_data]   Package punkt is already up-to-date!\n",
      "[nltk_data] Downloading package stopwords to C:\\Users\\Brak\n",
      "[nltk_data]     Lihou\\AppData\\Roaming\\nltk_data...\n",
      "[nltk_data]   Package stopwords is already up-to-date!\n"
     ]
    }
   ],
   "source": [
    "#lowercase, tokenization, special chars/punctualtion and stopwords removal\n",
    "\n",
    "import nltk\n",
    "from nltk.tokenize import word_tokenize\n",
    "from nltk.corpus import stopwords\n",
    "from nltk.stem.porter import PorterStemmer\n",
    "import string\n",
    "\n",
    "nltk.download('punkt')\n",
    "nltk.download('stopwords')\n",
    "\n",
    "ps = PorterStemmer()\n",
    "\n",
    "def transform_text(text):\n",
    "    text = text.lower()\n",
    "    text = nltk.word_tokenize(text)\n",
    "    \n",
    "    # Retaining only numbers and alphabets\n",
    "    y = []\n",
    "    for i in text:\n",
    "        if i.isalnum():\n",
    "            y.append(i)\n",
    "    \n",
    "    # Clone copy of list y\n",
    "    text = y[:]\n",
    "    y.clear()\n",
    "    \n",
    "    # Stopwords removal and removal of special characters/punctuation\n",
    "    for i in text:\n",
    "        if i not in stopwords.words('english') and i not in string.punctuation:\n",
    "            y.append(i)\n",
    "            \n",
    "    text = y[:]\n",
    "    y.clear()\n",
    "    \n",
    "    # Stemming\n",
    "    for i in text:\n",
    "        y.append(ps.stem(i))\n",
    "    \n",
    "    return \" \".join(y)"
   ]
  },
  {
   "cell_type": "code",
   "execution_count": 12,
   "id": "ef3ba437",
   "metadata": {},
   "outputs": [],
   "source": [
    "#Convert message to clean data\n",
    "df['transformed_text'] = df['message'].apply(transform_text)\n",
    "#Convert label to number\n",
    "df['label_countvert'] = df['label'].map({'ham': 0, 'spam': 1})"
   ]
  },
  {
   "cell_type": "code",
   "execution_count": 13,
   "id": "e96f34f5-3cda-4c61-bad4-f23481d79eea",
   "metadata": {},
   "outputs": [
    {
     "data": {
      "text/html": [
       "<div>\n",
       "<style scoped>\n",
       "    .dataframe tbody tr th:only-of-type {\n",
       "        vertical-align: middle;\n",
       "    }\n",
       "\n",
       "    .dataframe tbody tr th {\n",
       "        vertical-align: top;\n",
       "    }\n",
       "\n",
       "    .dataframe thead th {\n",
       "        text-align: right;\n",
       "    }\n",
       "</style>\n",
       "<table border=\"1\" class=\"dataframe\">\n",
       "  <thead>\n",
       "    <tr style=\"text-align: right;\">\n",
       "      <th></th>\n",
       "      <th>label</th>\n",
       "      <th>message</th>\n",
       "      <th>transformed_text</th>\n",
       "      <th>label_countvert</th>\n",
       "    </tr>\n",
       "  </thead>\n",
       "  <tbody>\n",
       "    <tr>\n",
       "      <th>0</th>\n",
       "      <td>ham</td>\n",
       "      <td>Go until jurong point, crazy.. Available only ...</td>\n",
       "      <td>go jurong point crazi avail bugi n great world...</td>\n",
       "      <td>0</td>\n",
       "    </tr>\n",
       "    <tr>\n",
       "      <th>1</th>\n",
       "      <td>ham</td>\n",
       "      <td>Ok lar... Joking wif u oni...</td>\n",
       "      <td>ok lar joke wif u oni</td>\n",
       "      <td>0</td>\n",
       "    </tr>\n",
       "    <tr>\n",
       "      <th>2</th>\n",
       "      <td>spam</td>\n",
       "      <td>Free entry in 2 a wkly comp to win FA Cup fina...</td>\n",
       "      <td>free entri 2 wkli comp win fa cup final tkt 21...</td>\n",
       "      <td>1</td>\n",
       "    </tr>\n",
       "    <tr>\n",
       "      <th>3</th>\n",
       "      <td>ham</td>\n",
       "      <td>U dun say so early hor... U c already then say...</td>\n",
       "      <td>u dun say earli hor u c alreadi say</td>\n",
       "      <td>0</td>\n",
       "    </tr>\n",
       "    <tr>\n",
       "      <th>4</th>\n",
       "      <td>ham</td>\n",
       "      <td>Nah I don't think he goes to usf, he lives aro...</td>\n",
       "      <td>nah think goe usf live around though</td>\n",
       "      <td>0</td>\n",
       "    </tr>\n",
       "    <tr>\n",
       "      <th>...</th>\n",
       "      <td>...</td>\n",
       "      <td>...</td>\n",
       "      <td>...</td>\n",
       "      <td>...</td>\n",
       "    </tr>\n",
       "    <tr>\n",
       "      <th>5163</th>\n",
       "      <td>spam</td>\n",
       "      <td>This is the 2nd time we have tried 2 contact u...</td>\n",
       "      <td>2nd time tri 2 contact u pound prize 2 claim e...</td>\n",
       "      <td>1</td>\n",
       "    </tr>\n",
       "    <tr>\n",
       "      <th>5164</th>\n",
       "      <td>ham</td>\n",
       "      <td>Will Ì_ b going to esplanade fr home?</td>\n",
       "      <td>b go esplanad fr home</td>\n",
       "      <td>0</td>\n",
       "    </tr>\n",
       "    <tr>\n",
       "      <th>5165</th>\n",
       "      <td>ham</td>\n",
       "      <td>Pity, * was in mood for that. So...any other s...</td>\n",
       "      <td>piti mood suggest</td>\n",
       "      <td>0</td>\n",
       "    </tr>\n",
       "    <tr>\n",
       "      <th>5166</th>\n",
       "      <td>ham</td>\n",
       "      <td>The guy did some bitching but I acted like i'd...</td>\n",
       "      <td>guy bitch act like interest buy someth els nex...</td>\n",
       "      <td>0</td>\n",
       "    </tr>\n",
       "    <tr>\n",
       "      <th>5167</th>\n",
       "      <td>ham</td>\n",
       "      <td>Rofl. Its true to its name</td>\n",
       "      <td>rofl true name</td>\n",
       "      <td>0</td>\n",
       "    </tr>\n",
       "  </tbody>\n",
       "</table>\n",
       "<p>5168 rows × 4 columns</p>\n",
       "</div>"
      ],
      "text/plain": [
       "     label                                            message  \\\n",
       "0      ham  Go until jurong point, crazy.. Available only ...   \n",
       "1      ham                      Ok lar... Joking wif u oni...   \n",
       "2     spam  Free entry in 2 a wkly comp to win FA Cup fina...   \n",
       "3      ham  U dun say so early hor... U c already then say...   \n",
       "4      ham  Nah I don't think he goes to usf, he lives aro...   \n",
       "...    ...                                                ...   \n",
       "5163  spam  This is the 2nd time we have tried 2 contact u...   \n",
       "5164   ham              Will Ì_ b going to esplanade fr home?   \n",
       "5165   ham  Pity, * was in mood for that. So...any other s...   \n",
       "5166   ham  The guy did some bitching but I acted like i'd...   \n",
       "5167   ham                         Rofl. Its true to its name   \n",
       "\n",
       "                                       transformed_text  label_countvert  \n",
       "0     go jurong point crazi avail bugi n great world...                0  \n",
       "1                                 ok lar joke wif u oni                0  \n",
       "2     free entri 2 wkli comp win fa cup final tkt 21...                1  \n",
       "3                   u dun say earli hor u c alreadi say                0  \n",
       "4                  nah think goe usf live around though                0  \n",
       "...                                                 ...              ...  \n",
       "5163  2nd time tri 2 contact u pound prize 2 claim e...                1  \n",
       "5164                              b go esplanad fr home                0  \n",
       "5165                                  piti mood suggest                0  \n",
       "5166  guy bitch act like interest buy someth els nex...                0  \n",
       "5167                                     rofl true name                0  \n",
       "\n",
       "[5168 rows x 4 columns]"
      ]
     },
     "execution_count": 13,
     "metadata": {},
     "output_type": "execute_result"
    }
   ],
   "source": [
    "df"
   ]
  },
  {
   "cell_type": "markdown",
   "id": "85a59c04",
   "metadata": {},
   "source": [
    "# Convert Data to number for machine learning understand"
   ]
  },
  {
   "cell_type": "code",
   "execution_count": 14,
   "id": "8ef536ad",
   "metadata": {},
   "outputs": [],
   "source": [
    "from sklearn.feature_extraction.text import CountVectorizer\n",
    "# Convert text data to count vectors\n",
    "vectorizer = CountVectorizer()\n",
    "X_counvert = vectorizer.fit_transform(df['transformed_text']) "
   ]
  },
  {
   "cell_type": "code",
   "execution_count": 15,
   "id": "c83c3c28",
   "metadata": {},
   "outputs": [],
   "source": [
    "from sklearn.model_selection import train_test_split\n",
    "from sklearn.linear_model import LogisticRegression\n",
    "# Split the count vectors and labels into training and testing sets\n",
    "X_train, X_test, y_train, y_test = train_test_split(X_counvert, df['label_countvert'], test_size=0.2, random_state=42)\n"
   ]
  },
  {
   "cell_type": "code",
   "execution_count": 16,
   "id": "419a009d",
   "metadata": {},
   "outputs": [
    {
     "name": "stdout",
     "output_type": "stream",
     "text": [
      "0    3624\n",
      "1     510\n",
      "Name: label_countvert, dtype: int64\n",
      "0    891\n",
      "1    143\n",
      "Name: label_countvert, dtype: int64\n"
     ]
    }
   ],
   "source": [
    "# Check the value counts of the training set\n",
    "print(y_train.value_counts())\n",
    "\n",
    "# Check the value counts of the testing set\n",
    "print(y_test.value_counts())"
   ]
  },
  {
   "cell_type": "code",
   "execution_count": 17,
   "id": "e4d43ff2",
   "metadata": {},
   "outputs": [
    {
     "name": "stdout",
     "output_type": "stream",
     "text": [
      "n_estimators 1: Training Loss = 0.3674, Test Loss = 0.4643\n",
      "n_estimators 2: Training Loss = 0.3422, Test Loss = 0.3935\n",
      "n_estimators 3: Training Loss = 0.3267, Test Loss = 0.3603\n",
      "n_estimators 4: Training Loss = 0.3110, Test Loss = 0.3349\n",
      "n_estimators 5: Training Loss = 0.2897, Test Loss = 0.3223\n",
      "n_estimators 6: Training Loss = 0.2776, Test Loss = 0.3139\n",
      "n_estimators 7: Training Loss = 0.2673, Test Loss = 0.2861\n",
      "n_estimators 8: Training Loss = 0.2433, Test Loss = 0.2937\n",
      "n_estimators 9: Training Loss = 0.2450, Test Loss = 0.2799\n",
      "n_estimators 10: Training Loss = 0.2309, Test Loss = 0.2704\n",
      "n_estimators 11: Training Loss = 0.2309, Test Loss = 0.2481\n",
      "n_estimators 12: Training Loss = 0.2251, Test Loss = 0.2541\n",
      "n_estimators 13: Training Loss = 0.2062, Test Loss = 0.2466\n",
      "n_estimators 14: Training Loss = 0.2025, Test Loss = 0.2301\n",
      "n_estimators 15: Training Loss = 0.1982, Test Loss = 0.2315\n",
      "n_estimators 16: Training Loss = 0.1927, Test Loss = 0.2306\n",
      "n_estimators 17: Training Loss = 0.1872, Test Loss = 0.2217\n",
      "n_estimators 18: Training Loss = 0.1786, Test Loss = 0.2162\n",
      "n_estimators 19: Training Loss = 0.1794, Test Loss = 0.2115\n",
      "n_estimators 20: Training Loss = 0.1669, Test Loss = 0.2063\n",
      "n_estimators 21: Training Loss = 0.1627, Test Loss = 0.2071\n",
      "n_estimators 22: Training Loss = 0.1665, Test Loss = 0.1961\n",
      "n_estimators 23: Training Loss = 0.1584, Test Loss = 0.1914\n",
      "n_estimators 24: Training Loss = 0.1619, Test Loss = 0.1939\n",
      "n_estimators 25: Training Loss = 0.1578, Test Loss = 0.1903\n",
      "n_estimators 26: Training Loss = 0.1509, Test Loss = 0.1857\n",
      "n_estimators 27: Training Loss = 0.1491, Test Loss = 0.1822\n",
      "n_estimators 28: Training Loss = 0.1443, Test Loss = 0.1805\n",
      "n_estimators 29: Training Loss = 0.1434, Test Loss = 0.1842\n"
     ]
    },
    {
     "data": {
      "image/png": "[encoded data removed]",
      "text/plain": [
       "<Figure size 640x480 with 1 Axes>"
      ]
     },
     "metadata": {},
     "output_type": "display_data"
    }
   ],
   "source": [
    "from sklearn.ensemble import RandomForestClassifier\n",
    "from sklearn.metrics import log_loss\n",
    "import matplotlib.pyplot as plt\n",
    "from sklearn.model_selection import cross_val_score\n",
    "import numpy as np\n",
    "\n",
    "# Define the range of n_estimators\n",
    "n_estimators_range = range(1, 30)\n",
    "\n",
    "# Lists to store the average training loss and test loss for each n_estimators value\n",
    "train_losses = []\n",
    "test_losses = []\n",
    "\n",
    "# Perform cross-validation for each value of n_estimators\n",
    "for n_estimators in n_estimators_range:\n",
    "    # Create a RandomForestClassifier model with the desired parameters\n",
    "    model = RandomForestClassifier(n_estimators=n_estimators, max_depth=n_estimators)\n",
    "\n",
    "    # Perform cross-validation and obtain the log loss scores\n",
    "    train_scores = -cross_val_score(model, X_train, y_train, cv=5, scoring='neg_log_loss')\n",
    "    test_scores = -cross_val_score(model, X_test, y_test, cv=5, scoring='neg_log_loss')\n",
    "\n",
    "    # Calculate the average training and test loss\n",
    "    avg_train_loss = np.mean(train_scores)\n",
    "    avg_test_loss = np.mean(test_scores)\n",
    "\n",
    "    # Store the average losses\n",
    "    train_losses.append(avg_train_loss)\n",
    "    test_losses.append(avg_test_loss)\n",
    "\n",
    "    print(f\"n_estimators {n_estimators}: Training Loss = {avg_train_loss:.4f}, Test Loss = {avg_test_loss:.4f}\")\n",
    "\n",
    "# Plot the training and test losses\n",
    "plt.plot(n_estimators_range, train_losses, label='Training Loss')\n",
    "plt.plot(n_estimators_range, test_losses, label='Test Loss')\n",
    "\n",
    "# Set the labels and title for the plot\n",
    "plt.xlabel('n_estimators')\n",
    "plt.ylabel('Loss')\n",
    "plt.title('Training Loss and Test Loss')\n",
    "\n",
    "# Show the legend and display the plot\n",
    "plt.legend()\n",
    "plt.show()\n"
   ]
  },
  {
   "cell_type": "code",
   "execution_count": 90,
   "id": "af7c3240",
   "metadata": {},
   "outputs": [
    {
     "name": "stdout",
     "output_type": "stream",
     "text": [
      "n_estimators=10, train: 0.998, test: 0.938\n",
      "n_estimators=50, train: 1.000, test: 0.948\n",
      "n_estimators=100, train: 1.000, test: 0.945\n",
      "n_estimators=200, train: 1.000, test: 0.946\n",
      "n_estimators=500, train: 1.000, test: 0.947\n"
     ]
    },
    {
     "data": {
      "image/png": "[encoded data removed]",
      "text/plain": [
       "<Figure size 640x480 with 1 Axes>"
      ]
     },
     "metadata": {},
     "output_type": "display_data"
    }
   ],
   "source": [
    "from sklearn.datasets import make_classification\n",
    "from sklearn.model_selection import train_test_split\n",
    "from sklearn.metrics import accuracy_score\n",
    "from sklearn.ensemble import RandomForestClassifier\n",
    "from matplotlib import pyplot\n",
    "\n",
    "\n",
    "# define lists to collect scores\n",
    "train_scores, test_scores = list(), list()\n",
    "\n",
    "# define the number of trees to evaluate\n",
    "values = [10, 50, 100, 200, 500]\n",
    "\n",
    "# evaluate RandomForestClassifier for each number of trees\n",
    "for value in values:\n",
    "    # configure the model\n",
    "    model = RandomForestClassifier(n_estimators=value)\n",
    "    \n",
    "    # fit the model on the training dataset\n",
    "    model.fit(X_train, y_train)\n",
    "    \n",
    "    # evaluate on the train dataset\n",
    "    train_yhat = model.predict(X_train)\n",
    "    train_acc = accuracy_score(y_train, train_yhat)\n",
    "    train_scores.append(train_acc)\n",
    "    \n",
    "    # evaluate on the test dataset\n",
    "    test_yhat = model.predict(X_test)\n",
    "    test_acc = accuracy_score(y_test, test_yhat)\n",
    "    test_scores.append(test_acc)\n",
    "    \n",
    "    # summarize progress\n",
    "    print('n_estimators=%d, train: %.3f, test: %.3f' % (value, train_acc, test_acc))\n",
    "\n",
    "# plot of train and test scores vs number of trees\n",
    "pyplot.plot(values, train_scores, '-o', label='Train')\n",
    "pyplot.plot(values, test_scores, '-o', label='Test')\n",
    "pyplot.xlabel('Number of Trees')\n",
    "pyplot.ylabel('Accuracy')\n",
    "pyplot.title('Training and Test Accuracy vs Number of Trees')\n",
    "pyplot.legend()\n",
    "pyplot.grid(True)\n",
    "pyplot.show()\n"
   ]
  },
  {
   "cell_type": "code",
   "execution_count": 91,
   "id": "86b9ce9a",
   "metadata": {},
   "outputs": [
    {
     "name": "stdout",
     "output_type": "stream",
     "text": [
      "C=0.001, train: 0.564, test: 0.559\n",
      "C=0.010, train: 0.888, test: 0.891\n",
      "C=0.100, train: 0.919, test: 0.927\n",
      "C=1.000, train: 0.935, test: 0.938\n",
      "C=10.000, train: 0.946, test: 0.947\n"
     ]
    },
    {
     "data": {
      "image/png": "[encoded data removed]",
      "text/plain": [
       "<Figure size 640x480 with 1 Axes>"
      ]
     },
     "metadata": {},
     "output_type": "display_data"
    }
   ],
   "source": [
    "from sklearn.datasets import make_classification\n",
    "from sklearn.model_selection import train_test_split\n",
    "from sklearn.metrics import accuracy_score\n",
    "from sklearn.svm import SVC\n",
    "from matplotlib import pyplot\n",
    "\n",
    "# define lists to collect scores\n",
    "train_scores, test_scores = list(), list()\n",
    "\n",
    "# define the values of C to evaluate\n",
    "values = [0.001, 0.01, 0.1, 1, 10]\n",
    "\n",
    "# evaluate SVC for each value of C\n",
    "for value in values:\n",
    "    # configure the model\n",
    "    model = SVC(C=value)\n",
    "    \n",
    "    # fit the model on the training dataset\n",
    "    model.fit(X_train, y_train)\n",
    "    \n",
    "    # evaluate on the train dataset\n",
    "    train_yhat = model.predict(X_train)\n",
    "    train_acc = accuracy_score(y_train, train_yhat)\n",
    "    train_scores.append(train_acc)\n",
    "    \n",
    "    # evaluate on the test dataset\n",
    "    test_yhat = model.predict(X_test)\n",
    "    test_acc = accuracy_score(y_test, test_yhat)\n",
    "    test_scores.append(test_acc)\n",
    "    \n",
    "    # summarize progress\n",
    "    print('C=%.3f, train: %.3f, test: %.3f' % (value, train_acc, test_acc))\n",
    "\n",
    "# plot of train and test scores vs C values\n",
    "pyplot.plot(values, train_scores, '-o', label='Train')\n",
    "pyplot.plot(values, test_scores, '-o', label='Test')\n",
    "pyplot.xlabel('C')\n",
    "pyplot.ylabel('Accuracy')\n",
    "pyplot.title('Training and Test Accuracy vs C')\n",
    "pyplot.legend()\n",
    "pyplot.grid(True)\n",
    "pyplot.show()\n"
   ]
  },
  {
   "cell_type": "code",
   "execution_count": 92,
   "id": "a7b50f32",
   "metadata": {},
   "outputs": [
    {
     "ename": "ValueError",
     "evalue": "Negative values in data passed to MultinomialNB (input X)",
     "output_type": "error",
     "traceback": [
      "\u001b[1;31m---------------------------------------------------------------------------\u001b[0m",
      "\u001b[1;31mValueError\u001b[0m                                Traceback (most recent call last)",
      "Cell \u001b[1;32mIn[92], line 18\u001b[0m\n\u001b[0;32m     15\u001b[0m model \u001b[38;5;241m=\u001b[39m MultinomialNB(alpha\u001b[38;5;241m=\u001b[39mvalue)\n\u001b[0;32m     17\u001b[0m \u001b[38;5;66;03m# fit the model on the training dataset\u001b[39;00m\n\u001b[1;32m---> 18\u001b[0m \u001b[43mmodel\u001b[49m\u001b[38;5;241;43m.\u001b[39;49m\u001b[43mfit\u001b[49m\u001b[43m(\u001b[49m\u001b[43mX_train\u001b[49m\u001b[43m,\u001b[49m\u001b[43m \u001b[49m\u001b[43my_train\u001b[49m\u001b[43m)\u001b[49m\n\u001b[0;32m     20\u001b[0m \u001b[38;5;66;03m# evaluate on the train dataset\u001b[39;00m\n\u001b[0;32m     21\u001b[0m train_yhat \u001b[38;5;241m=\u001b[39m model\u001b[38;5;241m.\u001b[39mpredict(X_train)\n",
      "File \u001b[1;32m~\\anaconda3\\lib\\site-packages\\sklearn\\naive_bayes.py:776\u001b[0m, in \u001b[0;36m_BaseDiscreteNB.fit\u001b[1;34m(self, X, y, sample_weight)\u001b[0m\n\u001b[0;32m    774\u001b[0m n_classes \u001b[38;5;241m=\u001b[39m Y\u001b[38;5;241m.\u001b[39mshape[\u001b[38;5;241m1\u001b[39m]\n\u001b[0;32m    775\u001b[0m \u001b[38;5;28mself\u001b[39m\u001b[38;5;241m.\u001b[39m_init_counters(n_classes, n_features)\n\u001b[1;32m--> 776\u001b[0m \u001b[38;5;28;43mself\u001b[39;49m\u001b[38;5;241;43m.\u001b[39;49m\u001b[43m_count\u001b[49m\u001b[43m(\u001b[49m\u001b[43mX\u001b[49m\u001b[43m,\u001b[49m\u001b[43m \u001b[49m\u001b[43mY\u001b[49m\u001b[43m)\u001b[49m\n\u001b[0;32m    777\u001b[0m alpha \u001b[38;5;241m=\u001b[39m \u001b[38;5;28mself\u001b[39m\u001b[38;5;241m.\u001b[39m_check_alpha()\n\u001b[0;32m    778\u001b[0m \u001b[38;5;28mself\u001b[39m\u001b[38;5;241m.\u001b[39m_update_feature_log_prob(alpha)\n",
      "File \u001b[1;32m~\\anaconda3\\lib\\site-packages\\sklearn\\naive_bayes.py:898\u001b[0m, in \u001b[0;36mMultinomialNB._count\u001b[1;34m(self, X, Y)\u001b[0m\n\u001b[0;32m    896\u001b[0m \u001b[38;5;28;01mdef\u001b[39;00m \u001b[38;5;21m_count\u001b[39m(\u001b[38;5;28mself\u001b[39m, X, Y):\n\u001b[0;32m    897\u001b[0m     \u001b[38;5;124;03m\"\"\"Count and smooth feature occurrences.\"\"\"\u001b[39;00m\n\u001b[1;32m--> 898\u001b[0m     \u001b[43mcheck_non_negative\u001b[49m\u001b[43m(\u001b[49m\u001b[43mX\u001b[49m\u001b[43m,\u001b[49m\u001b[43m \u001b[49m\u001b[38;5;124;43m\"\u001b[39;49m\u001b[38;5;124;43mMultinomialNB (input X)\u001b[39;49m\u001b[38;5;124;43m\"\u001b[39;49m\u001b[43m)\u001b[49m\n\u001b[0;32m    899\u001b[0m     \u001b[38;5;28mself\u001b[39m\u001b[38;5;241m.\u001b[39mfeature_count_ \u001b[38;5;241m+\u001b[39m\u001b[38;5;241m=\u001b[39m safe_sparse_dot(Y\u001b[38;5;241m.\u001b[39mT, X)\n\u001b[0;32m    900\u001b[0m     \u001b[38;5;28mself\u001b[39m\u001b[38;5;241m.\u001b[39mclass_count_ \u001b[38;5;241m+\u001b[39m\u001b[38;5;241m=\u001b[39m Y\u001b[38;5;241m.\u001b[39msum(axis\u001b[38;5;241m=\u001b[39m\u001b[38;5;241m0\u001b[39m)\n",
      "File \u001b[1;32m~\\anaconda3\\lib\\site-packages\\sklearn\\utils\\validation.py:1418\u001b[0m, in \u001b[0;36mcheck_non_negative\u001b[1;34m(X, whom)\u001b[0m\n\u001b[0;32m   1415\u001b[0m     X_min \u001b[38;5;241m=\u001b[39m xp\u001b[38;5;241m.\u001b[39mmin(X)\n\u001b[0;32m   1417\u001b[0m \u001b[38;5;28;01mif\u001b[39;00m X_min \u001b[38;5;241m<\u001b[39m \u001b[38;5;241m0\u001b[39m:\n\u001b[1;32m-> 1418\u001b[0m     \u001b[38;5;28;01mraise\u001b[39;00m \u001b[38;5;167;01mValueError\u001b[39;00m(\u001b[38;5;124m\"\u001b[39m\u001b[38;5;124mNegative values in data passed to \u001b[39m\u001b[38;5;132;01m%s\u001b[39;00m\u001b[38;5;124m\"\u001b[39m \u001b[38;5;241m%\u001b[39m whom)\n",
      "\u001b[1;31mValueError\u001b[0m: Negative values in data passed to MultinomialNB (input X)"
     ]
    }
   ],
   "source": [
    "from sklearn.datasets import make_classification\n",
    "from sklearn.model_selection import train_test_split\n",
    "from sklearn.metrics import accuracy_score\n",
    "from sklearn.naive_bayes import MultinomialNB\n",
    "from matplotlib import pyplot\n",
    "# define lists to collect scores\n",
    "train_scores, test_scores = list(), list()\n",
    "\n",
    "# define the values of alpha to evaluate\n",
    "values = [0.001, 0.01, 0.1, 1, 10]\n",
    "\n",
    "# evaluate MultinomialNB for each value of alpha\n",
    "for value in values:\n",
    "    # configure the model\n",
    "    model = MultinomialNB(alpha=value)\n",
    "    \n",
    "    # fit the model on the training dataset\n",
    "    model.fit(X_train, y_train)\n",
    "    \n",
    "    # evaluate on the train dataset\n",
    "    train_yhat = model.predict(X_train)\n",
    "    train_acc = accuracy_score(y_train, train_yhat)\n",
    "    train_scores.append(train_acc)\n",
    "    \n",
    "    # evaluate on the test dataset\n",
    "    test_yhat = model.predict(X_test)\n",
    "    test_acc = accuracy_score(y_test, test_yhat)\n",
    "    test_scores.append(test_acc)\n",
    "    \n",
    "    # summarize progress\n",
    "    print('alpha=%.3f, train: %.3f, test: %.3f' % (value, train_acc, test_acc))\n",
    "\n",
    "# plot of train and test scores vs alpha values\n",
    "pyplot.plot(values, train_scores, '-o', label='Train')\n",
    "pyplot.plot(values, test_scores, '-o', label='Test')\n",
    "pyplot.xlabel('Alpha')\n",
    "pyplot.ylabel('Accuracy')\n",
    "pyplot.title('Training and Test Accuracy vs Alpha')\n",
    "pyplot.legend()\n",
    "pyplot.grid(True)\n",
    "pyplot.show()\n"
   ]
  },
  {
   "cell_type": "code",
   "execution_count": 18,
   "id": "fd8dae58",
   "metadata": {},
   "outputs": [
    {
     "ename": "NameError",
     "evalue": "name 'rf_model' is not defined",
     "output_type": "error",
     "traceback": [
      "\u001b[1;31m---------------------------------------------------------------------------\u001b[0m",
      "\u001b[1;31mNameError\u001b[0m                                 Traceback (most recent call last)",
      "Cell \u001b[1;32mIn[19], line 25\u001b[0m\n\u001b[0;32m     22\u001b[0m transformed_emails \u001b[38;5;241m=\u001b[39m vectorizer\u001b[38;5;241m.\u001b[39mtransform(email_clean)\n\u001b[0;32m     24\u001b[0m \u001b[38;5;66;03m# Predict using the transformed data\u001b[39;00m\n\u001b[1;32m---> 25\u001b[0m \u001b[38;5;28mprint\u001b[39m(\u001b[43mrf_model\u001b[49m\u001b[38;5;241m.\u001b[39mpredict(transformed_emails))\n\u001b[0;32m     26\u001b[0m \u001b[38;5;28mprint\u001b[39m(model\u001b[38;5;241m.\u001b[39mpredict(transformed_emails))\n\u001b[0;32m     27\u001b[0m \u001b[38;5;28mprint\u001b[39m(lr_model\u001b[38;5;241m.\u001b[39mpredict(transformed_emails))\n",
      "\u001b[1;31mNameError\u001b[0m: name 'rf_model' is not defined"
     ]
    }
   ],
   "source": [
    "emails = [\n",
    "    'Congratulations! You won 1000 dollars. Call this number to claim your prize.',\n",
    "    'Upto 20% discount on parking, exclusive offer just for you. Don\\'t miss this reward!',\n",
    "    \"Congratulations! You've won a luxury vacation package! Click here to claim your prize now!\",\n",
    "    \"URGENT: Your bank account has been compromised. Please provide your account details to resolve this issue immediately.\",\n",
    "    \"Get rich quick! Earn thousands of dollars working from home with our proven system. Limited slots available, act now!\",\n",
    "    \"Exclusive offer for you! Buy one, get one free on all products. Don't miss out on this incredible deal!\",\n",
    "    \"You have been selected for a once-in-a-lifetime opportunity. Invest in our revolutionary product and become a millionaire in no time!\",\n",
    "    \"You could be entitled up to £3,160 in compensation from mis-sold PPI on a credit card or Loan. Please reply PPI for info or STOP to opt out.\",\n",
    "    \"I am free today, Let's go out for a movie. What do you say?\",\n",
    "    \"A [redacted] Loan for £950 is approved for you if you receive this SMS. 1 min verification & cash in 1 hr at www.[redacted].co.uk to opt out reply stop\",\n",
    "    \"Congratulations! You won 1000. Call on this number to get your prize.\",\n",
    "    \"XXXMobileMovieClub: To use your credit, click the WAP link in the next txt message or click here>> http://wap. xxxmobilemovieclub.com?n=QJKGIGHJJGCBL\",\n",
    "    \"Wait that's still not all that clear, were you not sure about me being sarcastic or that that's why x doesn't want to live with us\",\n",
    "    \"Rofl. Its true to its name\",\n",
    "    \"This is the 2nd time we have tried 2 contact u. U have won the å£750 Pound prize. 2 claim is easy, call 087187272008 NOW1! Only 10p per minute. BT-national-rate.\"\n",
    "]\n",
    "\n",
    "# Transform the new emails using the same CountVectorizer instance\n",
    "email_clean = [transform_text(email) for email in emails]\n",
    "\n",
    "transformed_emails = vectorizer.transform(email_clean)\n",
    "\n",
    "# Predict using the transformed data\n",
    "print(rf_model.predict(transformed_emails))\n",
    "print(lr_model.predict(transformed_emails))\n",
    "print(svc_model.predict(transformed_emails))\n",
    "print(nb_model.predict(transformed_emails))"
   ]
  },
  {
   "cell_type": "code",
   "execution_count": null,
   "id": "f28aea88",
   "metadata": {},
   "outputs": [],
   "source": []
  },
  {
   "cell_type": "code",
   "execution_count": null,
   "id": "9b011338",
   "metadata": {},
   "outputs": [],
   "source": []
  }
 ],
 "metadata": {
  "kernelspec": {
   "display_name": "Python 3 (ipykernel)",
   "language": "python",
   "name": "python3"
  },
  "language_info": {
   "codemirror_mode": {
    "name": "ipython",
    "version": 3
   },
   "file_extension": ".py",
   "mimetype": "text/x-python",
   "name": "python",
   "nbconvert_exporter": "python",
   "pygments_lexer": "ipython3",
   "version": "3.10.9"
  }
 },
 "nbformat": 4,
 "nbformat_minor": 5
}
